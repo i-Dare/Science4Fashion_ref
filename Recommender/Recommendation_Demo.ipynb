{
 "cells": [
  {
   "cell_type": "code",
   "execution_count": 1,
   "metadata": {},
   "outputs": [
    {
     "name": "stderr",
     "output_type": "stream",
     "text": [
      "C:\\Users\\User\\anaconda3\\lib\\site-packages\\sklearn\\utils\\deprecation.py:143: FutureWarning: The sklearn.linear_model.stochastic_gradient module is  deprecated in version 0.22 and will be removed in version 0.24. The corresponding classes / functions should instead be imported from sklearn.linear_model. Anything that cannot be imported from sklearn.linear_model is now part of the private API.\n",
      "  warnings.warn(message, FutureWarning)\n"
     ]
    }
   ],
   "source": [
    "import ipywidgets as widgets\n",
    "import numpy as np\n",
    "import pandas as pd\n",
    "\n",
    "import core.config as config\n",
    "from core.query_manager import QueryManager\n",
    "from fashion_recommendation import FashionRecommender\n",
    "\n",
    "from sklearn.linear_model.stochastic_gradient import SGDClassifier\n",
    "from sklearn.linear_model import PassiveAggressiveClassifier\n",
    "from sklearn.linear_model import Perceptron\n",
    "from sklearn.naive_bayes import MultinomialNB"
   ]
  },
  {
   "cell_type": "code",
   "execution_count": 2,
   "metadata": {},
   "outputs": [],
   "source": [
    "user = \"B2F7F3F5-E463-4B4C-8263-D52B16087E67\"\n",
    "# user = 'A9E23C0D-9EB7-4BB8-9C21-B74500DD82D2'\n",
    "numberResults = 50\n",
    "recalc = False\n",
    "searchTerm = 'hawaiian shirt'\n",
    "threshold = 1.\n",
    "db_manager = QueryManager(user=user)"
   ]
  },
  {
   "cell_type": "markdown",
   "metadata": {},
   "source": [
    "#### Recommender functions"
   ]
  },
  {
   "cell_type": "code",
   "execution_count": 3,
   "metadata": {},
   "outputs": [],
   "source": [
    "def execute_recommendation(recommender):\n",
    "    # Get search information\n",
    "    recommender.searchID, recommender.searchTerm, recommender.numberResults = recommender.get_search_details()\n",
    "    # Get all product ranking attributes\n",
    "    products_df = recommender.getAttributes()\n",
    "\n",
    "    # Preprocess ranking attributes\n",
    "    # products_df = recommender.attributePreprocessing()\n",
    "    products_df = recommender.orderingPreprocessing(products_df)\n",
    "\n",
    "    #\n",
    "    # Score calculation\n",
    "    #\n",
    "    # Calculate recommendation score according to text\n",
    "    products_df = recommender.textBasedScore(products_df)\n",
    "    # Calculate recommendation score according to ordering\n",
    "    products_df = recommender.orderingBasedScore(products_df)\n",
    "    # Calculate recommendation score according to user's feedback\n",
    "    products_df = recommender.feedbackBasedScore(products_df)\n",
    "    #\n",
    "    # \n",
    "    products_df = recommender.recommendationScore(products_df, text_mult=1, ordering_mult=.5)\n",
    "    #\n",
    "    # Register recommendation to the \"Result\" table if system's state!=recalc, otherwise update \n",
    "    # existing recommendation\n",
    "    recommender.registerRecommendation(products_df)\n",
    "\n",
    "    evalRecommendation(recommender, products_df)\n",
    "    \n",
    "    "
   ]
  },
  {
   "cell_type": "markdown",
   "metadata": {},
   "source": [
    "#### Helper functions"
   ]
  },
  {
   "cell_type": "code",
   "execution_count": 4,
   "metadata": {},
   "outputs": [],
   "source": [
    "def registerSearch(searchTerm, numberResults, user):\n",
    "    '''CL action'''\n",
    "    if numberResults==0:\n",
    "        numberResults = 10\n",
    "\n",
    "    params = {'table': 'Search', \n",
    "              'Criteria': searchTerm, \n",
    "              'NumberOfProductsToReturn': numberResults}\n",
    "    search_df = db_manager.runInsertQuery(params, get_identity=True)\n",
    "\n",
    "    searchID = search_df['Oid'].values[0]\n",
    "    return searchID\n",
    "        \n",
    "def registerInteraction(recommender, oid, isIrrelevant, grade):\n",
    "    '''CL action: Updates the recommendation as a new record in Results table'''\n",
    "    uniq_params = {'table': 'Result', 'Product': oid, 'Search': recommender.searchID, 'GradeByUser': None}    \n",
    "    params = {'table': 'Result', \n",
    "            'Search': recommender.searchID,\n",
    "            'IsIrrelevant': isIrrelevant,\n",
    "            'GradeByUser': grade,\n",
    "            'Product': oid}\n",
    "    recommender.db_manager.runCriteriaUpdateQuery(uniq_params=uniq_params, params=params)\n",
    "        \n",
    "def do_interaction(recommender):\n",
    "    print('Commiting interaction')\n",
    "    for (p,c),(p,s) in zip(checkbox_dict.items(), slider_dict.items()):\n",
    "        registerInteraction(recommender, p, c.value, s.value)        \n",
    "\n",
    "def evalRecommendation(recommender, recommendation_df):\n",
    "    where = ' OR '.join(['Oid=%s' % oid for oid in recommendation_df['Oid'].values])\n",
    "    query = ''' \n",
    "            SELECT Oid, Metadata, ProductTitle, Description, ImageSource, Image  FROM %s.dbo.Product\n",
    "            WHERE %s\n",
    "            ''' % (config.DB_NAME, where)\n",
    "    products_df = recommender.db_manager.runSimpleQuery(query, get_identity=True)\n",
    "    products_df['combined_columns'] = products_df['Metadata'].astype(str) \\\n",
    "                                    + products_df['ProductTitle'].astype(str) \\\n",
    "                                    + products_df['Description'].astype(str)   \n",
    "    cnt = 0\n",
    "    for _, row in recommendation_df.iterrows():\n",
    "        if cnt > numberResults:\n",
    "            break\n",
    "        cnt += 1\n",
    "        oid = row['Oid']\n",
    "        text_score = row['text_score']\n",
    "        ordering_score = row['ordering_score']        \n",
    "        feedback_score = row['feedback_score'] if 'feedback_score' in recommendation_df.columns else np.nan\n",
    "        final_score = row['final_score']        \n",
    "        \n",
    "        # Fetch image\n",
    "        imageBlob = products_df.loc[products_df['Oid']==oid, 'Image'].values[0]\n",
    "        imgURL = products_df.loc[products_df['Oid']==oid, 'ImageSource'].values[0].replace('\\\\', '')\n",
    "        image = recommender.helper.convertBlobToImage(imageBlob)\n",
    "        if image is None or image.shape[2] != 3:\n",
    "            print(imgURL)\n",
    "            image = recommender.helper.getWebImage(imgURL)\n",
    "            \n",
    "        cv_imshow(image, str(oid))\n",
    "        # relevance widget\n",
    "        checkbox_dict[oid] = widgets.Checkbox(False, description='IsIrrelevant')\n",
    "        # rating widget\n",
    "        slider_dict[oid] = widgets.IntSlider(value=-1, min=-1, max=5, step=1, description='Rating:',\n",
    "                                            readout=True, readout_format='d')\n",
    "        all_widgets = widgets.VBox([slider_dict[oid], checkbox_dict[oid]])\n",
    "        display(all_widgets)\n",
    "        \n",
    "        text = products_df.loc[products_df['Oid']==oid, 'combined_columns'].values[0]\n",
    "        imgUrl = products_df.loc[products_df['Oid']==oid, 'ImageSource'].values[0].replace('\\\\','')\n",
    "        \n",
    "        print('%s: Final score: %s, Text score: %s, Ordering score: %s, Feedback score: %s \\n%s' % (oid, final_score, text_score, \n",
    "                                                                                ordering_score, feedback_score, imgUrl))\n",
    "    \n",
    "def cv_imshow(image, title=\"\"):\n",
    "    import cv2\n",
    "    from matplotlib import pyplot as plt\n",
    "    if len(np.shape(image))==2:\n",
    "        plt.title(title)\n",
    "        plt.imshow(image, cmap='gray')\n",
    "    if len(np.shape(image))==3 and image.shape[2]==3:\n",
    "        image = cv2.cvtColor(image, cv2.COLOR_BGR2RGB)\n",
    "        plt.title(title)\n",
    "        plt.imshow(image)        \n",
    "    return plt.show()"
   ]
  },
  {
   "cell_type": "code",
   "execution_count": 5,
   "metadata": {
    "scrolled": false
   },
   "outputs": [
    {
     "data": {
      "application/vnd.jupyter.widget-view+json": {
       "model_id": "e1f6746485c04b3c96ccd9f32ec02e80",
       "version_major": 2,
       "version_minor": 0
      },
      "text/plain": [
       "VBox(children=(HBox(children=(Text(value='', layout=Layout(width='30%'), placeholder='Search'), IntText(value=…"
      ]
     },
     "metadata": {},
     "output_type": "display_data"
    }
   ],
   "source": [
    "output = widgets.Output()\n",
    "\n",
    "search_field = widgets.Text(\n",
    "    placeholder='Search',\n",
    "    layout=widgets.Layout(width='30%')\n",
    ")\n",
    "numberResults_field = widgets.IntText(\n",
    "    layout=widgets.Layout(width='5em')\n",
    ")\n",
    "search_button = widgets.Button(\n",
    "    disabled=False,\n",
    "    button_style='info', # 'success', 'info', 'warning', 'danger' or ''\n",
    "    tooltip='Search',\n",
    "    icon='fa-search', # (FontAwesome names without the `fa-` prefix)\n",
    "    layout=widgets.Layout(width='5em')\n",
    ")\n",
    "recalc_button = widgets.Button(\n",
    "    disabled=False,\n",
    "    button_style='warning', # 'success', 'info', 'warning', 'danger' or ''\n",
    "    tooltip='Recalculate',\n",
    "    icon='fa-calculator', # (FontAwesome names without the `fa-` prefix)\n",
    "    layout=widgets.Layout(width='5em')\n",
    ")\n",
    "\n",
    "all_widgets = widgets.VBox(\n",
    "    [widgets.HBox([search_field, numberResults_field, search_button, recalc_button]), \n",
    "     output]\n",
    ")\n",
    "\n",
    "display(all_widgets)\n",
    "\n",
    "checkbox_dict = {}\n",
    "slider_dict = {}\n",
    "\n",
    "def actionSearch(b):\n",
    "    with output:\n",
    "        print('Register new search in Search table')\n",
    "        searchID = registerSearch(search_field.value, numberResults_field.value, user)\n",
    "        \n",
    "        print('Initialize recommender for search Oid: %s' % searchID)\n",
    "        recommender = FashionRecommender(searchTerm=search_field.value, \n",
    "                                         recalc=False, \n",
    "                                         user=user,\n",
    "                                         threshold=threshold)\n",
    "        print(\"Executing recommendation.\")\n",
    "        execute_recommendation(recommender)\n",
    "        \n",
    "def recalcSearch(b):\n",
    "    with output:\n",
    "        print('Get latest search Oid from user %s' % user)\n",
    "        searchID = db_manager.getLastRecordID(table='Search', where=\"WHERE CreatedBy=\\'%s\\'\" % user)\n",
    "        print('Initialize recommender for search Oid: %s' % searchID)\n",
    "        recommender = FashionRecommender(searchTerm=search_field.value, \n",
    "                                         recalc=True, \n",
    "                                         user=user,\n",
    "                                         threshold=threshold)\n",
    "        #Get user feedback\n",
    "        do_interaction(recommender)\n",
    "        print(\"Executing recommendation correction.\")\n",
    "        execute_recommendation(recommender)\n",
    "\n",
    "search_button.on_click(actionSearch)\n",
    "recalc_button.on_click(recalcSearch)"
   ]
  },
  {
   "cell_type": "code",
   "execution_count": null,
   "metadata": {},
   "outputs": [],
   "source": []
  },
  {
   "cell_type": "code",
   "execution_count": null,
   "metadata": {},
   "outputs": [],
   "source": []
  },
  {
   "cell_type": "code",
   "execution_count": null,
   "metadata": {},
   "outputs": [],
   "source": []
  },
  {
   "cell_type": "code",
   "execution_count": null,
   "metadata": {},
   "outputs": [],
   "source": []
  },
  {
   "cell_type": "code",
   "execution_count": 6,
   "metadata": {},
   "outputs": [],
   "source": [
    "# recommender = FashionRecommender(searchTerm=search_field.value, \n",
    "#                                  user=user,\n",
    "#                                  threshold=threshold)\n",
    "# recommender.searchID, recommender.searchTerm, recommender.numberResults = recommender.get_search_details()\n",
    "# recommender.searchID, recommender.searchTerm, recommender.numberResults"
   ]
  },
  {
   "cell_type": "code",
   "execution_count": 7,
   "metadata": {},
   "outputs": [],
   "source": [
    "# do_interaction(recommender)"
   ]
  }
 ],
 "metadata": {
  "kernelspec": {
   "display_name": "Python 3",
   "language": "python",
   "name": "python3"
  },
  "language_info": {
   "codemirror_mode": {
    "name": "ipython",
    "version": 3
   },
   "file_extension": ".py",
   "mimetype": "text/x-python",
   "name": "python",
   "nbconvert_exporter": "python",
   "pygments_lexer": "ipython3",
   "version": "3.8.5"
  }
 },
 "nbformat": 4,
 "nbformat_minor": 4
}
